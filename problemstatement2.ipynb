{
 "cells": [
  {
   "cell_type": "code",
   "execution_count": 56,
   "metadata": {},
   "outputs": [],
   "source": [
    "#1.Quick Understanding of Data\n",
    "\n",
    "#Importing Libraries\n",
    "import os\n",
    "import pandas as pd\n",
    "import numpy as np\n",
    "import matplotlib.pyplot as plt\n",
    "import statsmodels.api as sm\n",
    "from sklearn.metrics import mean_squared_error\n",
    "from sklearn.model_selection import train_test_split\n",
    "from sklearn.linear_model import LinearRegression\n",
    "from sklearn.metrics import mean_absolute_error\n",
    "from statsmodels.formula.api import ols"
   ]
  },
  {
   "cell_type": "code",
   "execution_count": 57,
   "metadata": {},
   "outputs": [
    {
     "name": "stdout",
     "output_type": "stream",
     "text": [
      "D:\\insofe\\module2\\day4\n"
     ]
    }
   ],
   "source": [
    "print(os.getcwd())"
   ]
  },
  {
   "cell_type": "code",
   "execution_count": 58,
   "metadata": {},
   "outputs": [],
   "source": [
    "#Reading the data\n",
    "data=pd.read_csv('./Data/RetailCustomerRevenue.csv')"
   ]
  },
  {
   "cell_type": "code",
   "execution_count": 59,
   "metadata": {},
   "outputs": [
    {
     "data": {
      "text/plain": [
       "(2938, 12)"
      ]
     },
     "execution_count": 59,
     "metadata": {},
     "output_type": "execute_result"
    }
   ],
   "source": [
    "#data dimensions\n",
    "data.shape"
   ]
  },
  {
   "cell_type": "code",
   "execution_count": 60,
   "metadata": {},
   "outputs": [
    {
     "data": {
      "text/plain": [
       "Index(['PersonID', 'Amount', 'FamilySize', 'Distance', 'Duration',\n",
       "       'DirectVisits', 'OnlineVisits', 'Quantity', 'NumberofFrequentItems',\n",
       "       'TransactionMode', 'Area', 'Occupation'],\n",
       "      dtype='object')"
      ]
     },
     "execution_count": 60,
     "metadata": {},
     "output_type": "execute_result"
    }
   ],
   "source": [
    "#To get column names\n",
    "data.columns"
   ]
  },
  {
   "cell_type": "code",
   "execution_count": 61,
   "metadata": {},
   "outputs": [
    {
     "data": {
      "text/html": [
       "<div>\n",
       "<style scoped>\n",
       "    .dataframe tbody tr th:only-of-type {\n",
       "        vertical-align: middle;\n",
       "    }\n",
       "\n",
       "    .dataframe tbody tr th {\n",
       "        vertical-align: top;\n",
       "    }\n",
       "\n",
       "    .dataframe thead th {\n",
       "        text-align: right;\n",
       "    }\n",
       "</style>\n",
       "<table border=\"1\" class=\"dataframe\">\n",
       "  <thead>\n",
       "    <tr style=\"text-align: right;\">\n",
       "      <th></th>\n",
       "      <th>PersonID</th>\n",
       "      <th>Amount</th>\n",
       "      <th>FamilySize</th>\n",
       "      <th>Distance</th>\n",
       "      <th>Duration</th>\n",
       "      <th>DirectVisits</th>\n",
       "      <th>OnlineVisits</th>\n",
       "      <th>Quantity</th>\n",
       "      <th>NumberofFrequentItems</th>\n",
       "      <th>TransactionMode</th>\n",
       "      <th>Area</th>\n",
       "      <th>Occupation</th>\n",
       "    </tr>\n",
       "  </thead>\n",
       "  <tbody>\n",
       "    <tr>\n",
       "      <th>0</th>\n",
       "      <td>C1104</td>\n",
       "      <td>3125</td>\n",
       "      <td>2</td>\n",
       "      <td>6</td>\n",
       "      <td>261</td>\n",
       "      <td>11</td>\n",
       "      <td>9</td>\n",
       "      <td>365</td>\n",
       "      <td>11</td>\n",
       "      <td>2</td>\n",
       "      <td>Area1</td>\n",
       "      <td>2</td>\n",
       "    </tr>\n",
       "    <tr>\n",
       "      <th>1</th>\n",
       "      <td>C1111</td>\n",
       "      <td>5298</td>\n",
       "      <td>2</td>\n",
       "      <td>5</td>\n",
       "      <td>323</td>\n",
       "      <td>9</td>\n",
       "      <td>9</td>\n",
       "      <td>218</td>\n",
       "      <td>3</td>\n",
       "      <td>2</td>\n",
       "      <td>Area1</td>\n",
       "      <td>1</td>\n",
       "    </tr>\n",
       "    <tr>\n",
       "      <th>2</th>\n",
       "      <td>C1117</td>\n",
       "      <td>4375</td>\n",
       "      <td>2</td>\n",
       "      <td>6</td>\n",
       "      <td>355</td>\n",
       "      <td>11</td>\n",
       "      <td>11</td>\n",
       "      <td>1367</td>\n",
       "      <td>11</td>\n",
       "      <td>2</td>\n",
       "      <td>Area1</td>\n",
       "      <td>2</td>\n",
       "    </tr>\n",
       "  </tbody>\n",
       "</table>\n",
       "</div>"
      ],
      "text/plain": [
       "  PersonID  Amount  FamilySize  Distance  Duration  DirectVisits  \\\n",
       "0    C1104    3125           2         6       261            11   \n",
       "1    C1111    5298           2         5       323             9   \n",
       "2    C1117    4375           2         6       355            11   \n",
       "\n",
       "   OnlineVisits  Quantity  NumberofFrequentItems  TransactionMode   Area  \\\n",
       "0             9       365                     11                2  Area1   \n",
       "1             9       218                      3                2  Area1   \n",
       "2            11      1367                     11                2  Area1   \n",
       "\n",
       "   Occupation  \n",
       "0           2  \n",
       "1           1  \n",
       "2           2  "
      ]
     },
     "execution_count": 61,
     "metadata": {},
     "output_type": "execute_result"
    }
   ],
   "source": [
    "data.head(3)"
   ]
  },
  {
   "cell_type": "code",
   "execution_count": 62,
   "metadata": {},
   "outputs": [
    {
     "data": {
      "text/html": [
       "<div>\n",
       "<style scoped>\n",
       "    .dataframe tbody tr th:only-of-type {\n",
       "        vertical-align: middle;\n",
       "    }\n",
       "\n",
       "    .dataframe tbody tr th {\n",
       "        vertical-align: top;\n",
       "    }\n",
       "\n",
       "    .dataframe thead th {\n",
       "        text-align: right;\n",
       "    }\n",
       "</style>\n",
       "<table border=\"1\" class=\"dataframe\">\n",
       "  <thead>\n",
       "    <tr style=\"text-align: right;\">\n",
       "      <th></th>\n",
       "      <th>PersonID</th>\n",
       "      <th>Amount</th>\n",
       "      <th>FamilySize</th>\n",
       "      <th>Distance</th>\n",
       "      <th>Duration</th>\n",
       "      <th>DirectVisits</th>\n",
       "      <th>OnlineVisits</th>\n",
       "      <th>Quantity</th>\n",
       "      <th>NumberofFrequentItems</th>\n",
       "      <th>TransactionMode</th>\n",
       "      <th>Area</th>\n",
       "      <th>Occupation</th>\n",
       "    </tr>\n",
       "  </thead>\n",
       "  <tbody>\n",
       "    <tr>\n",
       "      <th>2935</th>\n",
       "      <td>C4301</td>\n",
       "      <td>4388</td>\n",
       "      <td>3</td>\n",
       "      <td>8</td>\n",
       "      <td>313</td>\n",
       "      <td>15</td>\n",
       "      <td>15</td>\n",
       "      <td>952</td>\n",
       "      <td>10</td>\n",
       "      <td>2</td>\n",
       "      <td>Area1</td>\n",
       "      <td>3</td>\n",
       "    </tr>\n",
       "    <tr>\n",
       "      <th>2936</th>\n",
       "      <td>C4303</td>\n",
       "      <td>6532</td>\n",
       "      <td>3</td>\n",
       "      <td>7</td>\n",
       "      <td>424</td>\n",
       "      <td>32</td>\n",
       "      <td>29</td>\n",
       "      <td>5933</td>\n",
       "      <td>29</td>\n",
       "      <td>2</td>\n",
       "      <td>Area1</td>\n",
       "      <td>3</td>\n",
       "    </tr>\n",
       "    <tr>\n",
       "      <th>2937</th>\n",
       "      <td>C4305</td>\n",
       "      <td>3313</td>\n",
       "      <td>3</td>\n",
       "      <td>6</td>\n",
       "      <td>365</td>\n",
       "      <td>16</td>\n",
       "      <td>16</td>\n",
       "      <td>827</td>\n",
       "      <td>16</td>\n",
       "      <td>2</td>\n",
       "      <td>Area1</td>\n",
       "      <td>1</td>\n",
       "    </tr>\n",
       "  </tbody>\n",
       "</table>\n",
       "</div>"
      ],
      "text/plain": [
       "     PersonID  Amount  FamilySize  Distance  Duration  DirectVisits  \\\n",
       "2935    C4301    4388           3         8       313            15   \n",
       "2936    C4303    6532           3         7       424            32   \n",
       "2937    C4305    3313           3         6       365            16   \n",
       "\n",
       "      OnlineVisits  Quantity  NumberofFrequentItems  TransactionMode   Area  \\\n",
       "2935            15       952                     10                2  Area1   \n",
       "2936            29      5933                     29                2  Area1   \n",
       "2937            16       827                     16                2  Area1   \n",
       "\n",
       "      Occupation  \n",
       "2935           3  \n",
       "2936           3  \n",
       "2937           1  "
      ]
     },
     "execution_count": 62,
     "metadata": {},
     "output_type": "execute_result"
    }
   ],
   "source": [
    "data.tail(3)"
   ]
  },
  {
   "cell_type": "code",
   "execution_count": 63,
   "metadata": {},
   "outputs": [
    {
     "data": {
      "text/plain": [
       "PersonID                 object\n",
       "Amount                    int64\n",
       "FamilySize                int64\n",
       "Distance                  int64\n",
       "Duration                  int64\n",
       "DirectVisits              int64\n",
       "OnlineVisits              int64\n",
       "Quantity                  int64\n",
       "NumberofFrequentItems     int64\n",
       "TransactionMode           int64\n",
       "Area                     object\n",
       "Occupation                int64\n",
       "dtype: object"
      ]
     },
     "execution_count": 63,
     "metadata": {},
     "output_type": "execute_result"
    }
   ],
   "source": [
    "#Checking the datatypes of the various attributes\n",
    "data.dtypes"
   ]
  },
  {
   "cell_type": "code",
   "execution_count": 64,
   "metadata": {},
   "outputs": [
    {
     "data": {
      "text/html": [
       "<div>\n",
       "<style scoped>\n",
       "    .dataframe tbody tr th:only-of-type {\n",
       "        vertical-align: middle;\n",
       "    }\n",
       "\n",
       "    .dataframe tbody tr th {\n",
       "        vertical-align: top;\n",
       "    }\n",
       "\n",
       "    .dataframe thead th {\n",
       "        text-align: right;\n",
       "    }\n",
       "</style>\n",
       "<table border=\"1\" class=\"dataframe\">\n",
       "  <thead>\n",
       "    <tr style=\"text-align: right;\">\n",
       "      <th></th>\n",
       "      <th>PersonID</th>\n",
       "      <th>Amount</th>\n",
       "      <th>FamilySize</th>\n",
       "      <th>Distance</th>\n",
       "      <th>Duration</th>\n",
       "      <th>DirectVisits</th>\n",
       "      <th>OnlineVisits</th>\n",
       "      <th>Quantity</th>\n",
       "      <th>NumberofFrequentItems</th>\n",
       "      <th>TransactionMode</th>\n",
       "      <th>Area</th>\n",
       "      <th>Occupation</th>\n",
       "    </tr>\n",
       "  </thead>\n",
       "  <tbody>\n",
       "    <tr>\n",
       "      <th>count</th>\n",
       "      <td>2938</td>\n",
       "      <td>2938.000000</td>\n",
       "      <td>2938.000000</td>\n",
       "      <td>2938.000000</td>\n",
       "      <td>2938.000000</td>\n",
       "      <td>2938.000000</td>\n",
       "      <td>2938.000000</td>\n",
       "      <td>2938.000000</td>\n",
       "      <td>2938.000000</td>\n",
       "      <td>2938.000000</td>\n",
       "      <td>2938</td>\n",
       "      <td>2938.000000</td>\n",
       "    </tr>\n",
       "    <tr>\n",
       "      <th>unique</th>\n",
       "      <td>2938</td>\n",
       "      <td>NaN</td>\n",
       "      <td>NaN</td>\n",
       "      <td>NaN</td>\n",
       "      <td>NaN</td>\n",
       "      <td>NaN</td>\n",
       "      <td>NaN</td>\n",
       "      <td>NaN</td>\n",
       "      <td>NaN</td>\n",
       "      <td>NaN</td>\n",
       "      <td>2</td>\n",
       "      <td>NaN</td>\n",
       "    </tr>\n",
       "    <tr>\n",
       "      <th>top</th>\n",
       "      <td>C2641</td>\n",
       "      <td>NaN</td>\n",
       "      <td>NaN</td>\n",
       "      <td>NaN</td>\n",
       "      <td>NaN</td>\n",
       "      <td>NaN</td>\n",
       "      <td>NaN</td>\n",
       "      <td>NaN</td>\n",
       "      <td>NaN</td>\n",
       "      <td>NaN</td>\n",
       "      <td>Area1</td>\n",
       "      <td>NaN</td>\n",
       "    </tr>\n",
       "    <tr>\n",
       "      <th>freq</th>\n",
       "      <td>1</td>\n",
       "      <td>NaN</td>\n",
       "      <td>NaN</td>\n",
       "      <td>NaN</td>\n",
       "      <td>NaN</td>\n",
       "      <td>NaN</td>\n",
       "      <td>NaN</td>\n",
       "      <td>NaN</td>\n",
       "      <td>NaN</td>\n",
       "      <td>NaN</td>\n",
       "      <td>2600</td>\n",
       "      <td>NaN</td>\n",
       "    </tr>\n",
       "    <tr>\n",
       "      <th>mean</th>\n",
       "      <td>NaN</td>\n",
       "      <td>4209.432267</td>\n",
       "      <td>3.116065</td>\n",
       "      <td>7.353642</td>\n",
       "      <td>349.146698</td>\n",
       "      <td>16.283186</td>\n",
       "      <td>14.745405</td>\n",
       "      <td>1600.154527</td>\n",
       "      <td>14.780463</td>\n",
       "      <td>1.821647</td>\n",
       "      <td>NaN</td>\n",
       "      <td>2.045950</td>\n",
       "    </tr>\n",
       "    <tr>\n",
       "      <th>std</th>\n",
       "      <td>NaN</td>\n",
       "      <td>2069.917106</td>\n",
       "      <td>1.038815</td>\n",
       "      <td>2.989459</td>\n",
       "      <td>89.621938</td>\n",
       "      <td>8.494674</td>\n",
       "      <td>7.310646</td>\n",
       "      <td>1920.046598</td>\n",
       "      <td>8.822916</td>\n",
       "      <td>0.382874</td>\n",
       "      <td>NaN</td>\n",
       "      <td>0.818329</td>\n",
       "    </tr>\n",
       "    <tr>\n",
       "      <th>min</th>\n",
       "      <td>NaN</td>\n",
       "      <td>2500.000000</td>\n",
       "      <td>2.000000</td>\n",
       "      <td>3.000000</td>\n",
       "      <td>100.000000</td>\n",
       "      <td>1.000000</td>\n",
       "      <td>1.000000</td>\n",
       "      <td>0.000000</td>\n",
       "      <td>0.000000</td>\n",
       "      <td>1.000000</td>\n",
       "      <td>NaN</td>\n",
       "      <td>1.000000</td>\n",
       "    </tr>\n",
       "    <tr>\n",
       "      <th>25%</th>\n",
       "      <td>NaN</td>\n",
       "      <td>2897.250000</td>\n",
       "      <td>2.000000</td>\n",
       "      <td>6.000000</td>\n",
       "      <td>305.000000</td>\n",
       "      <td>11.000000</td>\n",
       "      <td>10.000000</td>\n",
       "      <td>444.000000</td>\n",
       "      <td>10.000000</td>\n",
       "      <td>2.000000</td>\n",
       "      <td>NaN</td>\n",
       "      <td>1.000000</td>\n",
       "    </tr>\n",
       "    <tr>\n",
       "      <th>50%</th>\n",
       "      <td>NaN</td>\n",
       "      <td>3512.000000</td>\n",
       "      <td>3.000000</td>\n",
       "      <td>7.000000</td>\n",
       "      <td>368.000000</td>\n",
       "      <td>14.000000</td>\n",
       "      <td>13.000000</td>\n",
       "      <td>1028.500000</td>\n",
       "      <td>13.000000</td>\n",
       "      <td>2.000000</td>\n",
       "      <td>NaN</td>\n",
       "      <td>2.000000</td>\n",
       "    </tr>\n",
       "    <tr>\n",
       "      <th>75%</th>\n",
       "      <td>NaN</td>\n",
       "      <td>4772.500000</td>\n",
       "      <td>4.000000</td>\n",
       "      <td>8.000000</td>\n",
       "      <td>418.000000</td>\n",
       "      <td>19.000000</td>\n",
       "      <td>17.000000</td>\n",
       "      <td>2047.250000</td>\n",
       "      <td>19.000000</td>\n",
       "      <td>2.000000</td>\n",
       "      <td>NaN</td>\n",
       "      <td>3.000000</td>\n",
       "    </tr>\n",
       "    <tr>\n",
       "      <th>max</th>\n",
       "      <td>NaN</td>\n",
       "      <td>24764.000000</td>\n",
       "      <td>12.000000</td>\n",
       "      <td>23.000000</td>\n",
       "      <td>472.000000</td>\n",
       "      <td>119.000000</td>\n",
       "      <td>112.000000</td>\n",
       "      <td>27829.000000</td>\n",
       "      <td>115.000000</td>\n",
       "      <td>2.000000</td>\n",
       "      <td>NaN</td>\n",
       "      <td>3.000000</td>\n",
       "    </tr>\n",
       "  </tbody>\n",
       "</table>\n",
       "</div>"
      ],
      "text/plain": [
       "       PersonID        Amount   FamilySize     Distance     Duration  \\\n",
       "count      2938   2938.000000  2938.000000  2938.000000  2938.000000   \n",
       "unique     2938           NaN          NaN          NaN          NaN   \n",
       "top       C2641           NaN          NaN          NaN          NaN   \n",
       "freq          1           NaN          NaN          NaN          NaN   \n",
       "mean        NaN   4209.432267     3.116065     7.353642   349.146698   \n",
       "std         NaN   2069.917106     1.038815     2.989459    89.621938   \n",
       "min         NaN   2500.000000     2.000000     3.000000   100.000000   \n",
       "25%         NaN   2897.250000     2.000000     6.000000   305.000000   \n",
       "50%         NaN   3512.000000     3.000000     7.000000   368.000000   \n",
       "75%         NaN   4772.500000     4.000000     8.000000   418.000000   \n",
       "max         NaN  24764.000000    12.000000    23.000000   472.000000   \n",
       "\n",
       "        DirectVisits  OnlineVisits      Quantity  NumberofFrequentItems  \\\n",
       "count    2938.000000   2938.000000   2938.000000            2938.000000   \n",
       "unique           NaN           NaN           NaN                    NaN   \n",
       "top              NaN           NaN           NaN                    NaN   \n",
       "freq             NaN           NaN           NaN                    NaN   \n",
       "mean       16.283186     14.745405   1600.154527              14.780463   \n",
       "std         8.494674      7.310646   1920.046598               8.822916   \n",
       "min         1.000000      1.000000      0.000000               0.000000   \n",
       "25%        11.000000     10.000000    444.000000              10.000000   \n",
       "50%        14.000000     13.000000   1028.500000              13.000000   \n",
       "75%        19.000000     17.000000   2047.250000              19.000000   \n",
       "max       119.000000    112.000000  27829.000000             115.000000   \n",
       "\n",
       "        TransactionMode   Area   Occupation  \n",
       "count       2938.000000   2938  2938.000000  \n",
       "unique              NaN      2          NaN  \n",
       "top                 NaN  Area1          NaN  \n",
       "freq                NaN   2600          NaN  \n",
       "mean           1.821647    NaN     2.045950  \n",
       "std            0.382874    NaN     0.818329  \n",
       "min            1.000000    NaN     1.000000  \n",
       "25%            2.000000    NaN     1.000000  \n",
       "50%            2.000000    NaN     2.000000  \n",
       "75%            2.000000    NaN     3.000000  \n",
       "max            2.000000    NaN     3.000000  "
      ]
     },
     "execution_count": 64,
     "metadata": {},
     "output_type": "execute_result"
    }
   ],
   "source": [
    "#Statistical description of the data\n",
    "data.describe(include='all')"
   ]
  },
  {
   "cell_type": "code",
   "execution_count": 65,
   "metadata": {},
   "outputs": [
    {
     "name": "stdout",
     "output_type": "stream",
     "text": [
      "TransactionMode 2\n",
      "[2 1]\n",
      "Area 2\n",
      "['Area1' 'Area2']\n",
      "Occupation 3\n",
      "[2 1 3]\n"
     ]
    }
   ],
   "source": [
    "#Checking attributes with unique values\n",
    "ins=[]\n",
    "for x in data.columns:\n",
    "  if(data[x].nunique() <10):\n",
    "    ins.append(x)\n",
    "    print(x,data[x].nunique())\n",
    "    print(data[x].unique())"
   ]
  },
  {
   "cell_type": "code",
   "execution_count": 66,
   "metadata": {},
   "outputs": [],
   "source": [
    "#Transaction Mode has 2 unique values\n",
    "#Area has 2 unique values\n",
    "#Occupation has 3 unique values"
   ]
  },
  {
   "cell_type": "code",
   "execution_count": 67,
   "metadata": {},
   "outputs": [],
   "source": [
    "#Conversion to category data type\n",
    "data['TransactionMode']=data['TransactionMode'].astype(\"category\")\n",
    "data['Area']=data['Area'].astype(\"category\")\n",
    "data['Occupation']=data['Occupation'].astype(\"category\")"
   ]
  },
  {
   "cell_type": "code",
   "execution_count": 68,
   "metadata": {},
   "outputs": [
    {
     "data": {
      "text/plain": [
       "PersonID                   object\n",
       "Amount                      int64\n",
       "FamilySize                  int64\n",
       "Distance                    int64\n",
       "Duration                    int64\n",
       "DirectVisits                int64\n",
       "OnlineVisits                int64\n",
       "Quantity                    int64\n",
       "NumberofFrequentItems       int64\n",
       "TransactionMode          category\n",
       "Area                     category\n",
       "Occupation               category\n",
       "dtype: object"
      ]
     },
     "execution_count": 68,
     "metadata": {},
     "output_type": "execute_result"
    }
   ],
   "source": [
    "#Checking the attributes of the data types after conversion\n",
    "data.dtypes"
   ]
  },
  {
   "cell_type": "code",
   "execution_count": 69,
   "metadata": {},
   "outputs": [
    {
     "data": {
      "text/html": [
       "<div>\n",
       "<style scoped>\n",
       "    .dataframe tbody tr th:only-of-type {\n",
       "        vertical-align: middle;\n",
       "    }\n",
       "\n",
       "    .dataframe tbody tr th {\n",
       "        vertical-align: top;\n",
       "    }\n",
       "\n",
       "    .dataframe thead th {\n",
       "        text-align: right;\n",
       "    }\n",
       "</style>\n",
       "<table border=\"1\" class=\"dataframe\">\n",
       "  <thead>\n",
       "    <tr style=\"text-align: right;\">\n",
       "      <th></th>\n",
       "      <th>PersonID</th>\n",
       "      <th>Amount</th>\n",
       "      <th>FamilySize</th>\n",
       "      <th>Distance</th>\n",
       "      <th>Duration</th>\n",
       "      <th>DirectVisits</th>\n",
       "      <th>OnlineVisits</th>\n",
       "      <th>Quantity</th>\n",
       "      <th>NumberofFrequentItems</th>\n",
       "      <th>TransactionMode</th>\n",
       "      <th>Area</th>\n",
       "      <th>Occupation</th>\n",
       "    </tr>\n",
       "  </thead>\n",
       "  <tbody>\n",
       "  </tbody>\n",
       "</table>\n",
       "</div>"
      ],
      "text/plain": [
       "Empty DataFrame\n",
       "Columns: [PersonID, Amount, FamilySize, Distance, Duration, DirectVisits, OnlineVisits, Quantity, NumberofFrequentItems, TransactionMode, Area, Occupation]\n",
       "Index: []"
      ]
     },
     "execution_count": 69,
     "metadata": {},
     "output_type": "execute_result"
    }
   ],
   "source": [
    "#Checking for duplicate values\n",
    "data[data.duplicated()]"
   ]
  },
  {
   "cell_type": "code",
   "execution_count": 70,
   "metadata": {},
   "outputs": [
    {
     "data": {
      "text/plain": [
       "PersonID                 0\n",
       "Amount                   0\n",
       "FamilySize               0\n",
       "Distance                 0\n",
       "Duration                 0\n",
       "DirectVisits             0\n",
       "OnlineVisits             0\n",
       "Quantity                 0\n",
       "NumberofFrequentItems    0\n",
       "TransactionMode          0\n",
       "Area                     0\n",
       "Occupation               0\n",
       "dtype: int64"
      ]
     },
     "execution_count": 70,
     "metadata": {},
     "output_type": "execute_result"
    }
   ],
   "source": [
    "#Checking for missing values\n",
    "data.isna().sum()"
   ]
  },
  {
   "cell_type": "code",
   "execution_count": 71,
   "metadata": {},
   "outputs": [],
   "source": [
    "#No missing values\n",
    "#No duplicates"
   ]
  },
  {
   "cell_type": "code",
   "execution_count": 72,
   "metadata": {},
   "outputs": [],
   "source": [
    "#Deleting PersonID attribute as it has no contribution for the model.\n",
    "data.drop('PersonID',axis=1,inplace=True)"
   ]
  },
  {
   "cell_type": "code",
   "execution_count": 73,
   "metadata": {},
   "outputs": [
    {
     "data": {
      "text/html": [
       "<div>\n",
       "<style scoped>\n",
       "    .dataframe tbody tr th:only-of-type {\n",
       "        vertical-align: middle;\n",
       "    }\n",
       "\n",
       "    .dataframe tbody tr th {\n",
       "        vertical-align: top;\n",
       "    }\n",
       "\n",
       "    .dataframe thead th {\n",
       "        text-align: right;\n",
       "    }\n",
       "</style>\n",
       "<table border=\"1\" class=\"dataframe\">\n",
       "  <thead>\n",
       "    <tr style=\"text-align: right;\">\n",
       "      <th></th>\n",
       "      <th>Amount</th>\n",
       "      <th>FamilySize</th>\n",
       "      <th>Distance</th>\n",
       "      <th>Duration</th>\n",
       "      <th>DirectVisits</th>\n",
       "      <th>OnlineVisits</th>\n",
       "      <th>Quantity</th>\n",
       "      <th>NumberofFrequentItems</th>\n",
       "      <th>TransactionMode</th>\n",
       "      <th>Area</th>\n",
       "      <th>Occupation</th>\n",
       "    </tr>\n",
       "  </thead>\n",
       "  <tbody>\n",
       "    <tr>\n",
       "      <th>count</th>\n",
       "      <td>2938.000000</td>\n",
       "      <td>2938.000000</td>\n",
       "      <td>2938.000000</td>\n",
       "      <td>2938.000000</td>\n",
       "      <td>2938.000000</td>\n",
       "      <td>2938.000000</td>\n",
       "      <td>2938.000000</td>\n",
       "      <td>2938.000000</td>\n",
       "      <td>2938.0</td>\n",
       "      <td>2938</td>\n",
       "      <td>2938.0</td>\n",
       "    </tr>\n",
       "    <tr>\n",
       "      <th>unique</th>\n",
       "      <td>NaN</td>\n",
       "      <td>NaN</td>\n",
       "      <td>NaN</td>\n",
       "      <td>NaN</td>\n",
       "      <td>NaN</td>\n",
       "      <td>NaN</td>\n",
       "      <td>NaN</td>\n",
       "      <td>NaN</td>\n",
       "      <td>2.0</td>\n",
       "      <td>2</td>\n",
       "      <td>3.0</td>\n",
       "    </tr>\n",
       "    <tr>\n",
       "      <th>top</th>\n",
       "      <td>NaN</td>\n",
       "      <td>NaN</td>\n",
       "      <td>NaN</td>\n",
       "      <td>NaN</td>\n",
       "      <td>NaN</td>\n",
       "      <td>NaN</td>\n",
       "      <td>NaN</td>\n",
       "      <td>NaN</td>\n",
       "      <td>2.0</td>\n",
       "      <td>Area1</td>\n",
       "      <td>3.0</td>\n",
       "    </tr>\n",
       "    <tr>\n",
       "      <th>freq</th>\n",
       "      <td>NaN</td>\n",
       "      <td>NaN</td>\n",
       "      <td>NaN</td>\n",
       "      <td>NaN</td>\n",
       "      <td>NaN</td>\n",
       "      <td>NaN</td>\n",
       "      <td>NaN</td>\n",
       "      <td>NaN</td>\n",
       "      <td>2414.0</td>\n",
       "      <td>2600</td>\n",
       "      <td>1054.0</td>\n",
       "    </tr>\n",
       "    <tr>\n",
       "      <th>mean</th>\n",
       "      <td>4209.432267</td>\n",
       "      <td>3.116065</td>\n",
       "      <td>7.353642</td>\n",
       "      <td>349.146698</td>\n",
       "      <td>16.283186</td>\n",
       "      <td>14.745405</td>\n",
       "      <td>1600.154527</td>\n",
       "      <td>14.780463</td>\n",
       "      <td>NaN</td>\n",
       "      <td>NaN</td>\n",
       "      <td>NaN</td>\n",
       "    </tr>\n",
       "    <tr>\n",
       "      <th>std</th>\n",
       "      <td>2069.917106</td>\n",
       "      <td>1.038815</td>\n",
       "      <td>2.989459</td>\n",
       "      <td>89.621938</td>\n",
       "      <td>8.494674</td>\n",
       "      <td>7.310646</td>\n",
       "      <td>1920.046598</td>\n",
       "      <td>8.822916</td>\n",
       "      <td>NaN</td>\n",
       "      <td>NaN</td>\n",
       "      <td>NaN</td>\n",
       "    </tr>\n",
       "    <tr>\n",
       "      <th>min</th>\n",
       "      <td>2500.000000</td>\n",
       "      <td>2.000000</td>\n",
       "      <td>3.000000</td>\n",
       "      <td>100.000000</td>\n",
       "      <td>1.000000</td>\n",
       "      <td>1.000000</td>\n",
       "      <td>0.000000</td>\n",
       "      <td>0.000000</td>\n",
       "      <td>NaN</td>\n",
       "      <td>NaN</td>\n",
       "      <td>NaN</td>\n",
       "    </tr>\n",
       "    <tr>\n",
       "      <th>25%</th>\n",
       "      <td>2897.250000</td>\n",
       "      <td>2.000000</td>\n",
       "      <td>6.000000</td>\n",
       "      <td>305.000000</td>\n",
       "      <td>11.000000</td>\n",
       "      <td>10.000000</td>\n",
       "      <td>444.000000</td>\n",
       "      <td>10.000000</td>\n",
       "      <td>NaN</td>\n",
       "      <td>NaN</td>\n",
       "      <td>NaN</td>\n",
       "    </tr>\n",
       "    <tr>\n",
       "      <th>50%</th>\n",
       "      <td>3512.000000</td>\n",
       "      <td>3.000000</td>\n",
       "      <td>7.000000</td>\n",
       "      <td>368.000000</td>\n",
       "      <td>14.000000</td>\n",
       "      <td>13.000000</td>\n",
       "      <td>1028.500000</td>\n",
       "      <td>13.000000</td>\n",
       "      <td>NaN</td>\n",
       "      <td>NaN</td>\n",
       "      <td>NaN</td>\n",
       "    </tr>\n",
       "    <tr>\n",
       "      <th>75%</th>\n",
       "      <td>4772.500000</td>\n",
       "      <td>4.000000</td>\n",
       "      <td>8.000000</td>\n",
       "      <td>418.000000</td>\n",
       "      <td>19.000000</td>\n",
       "      <td>17.000000</td>\n",
       "      <td>2047.250000</td>\n",
       "      <td>19.000000</td>\n",
       "      <td>NaN</td>\n",
       "      <td>NaN</td>\n",
       "      <td>NaN</td>\n",
       "    </tr>\n",
       "    <tr>\n",
       "      <th>max</th>\n",
       "      <td>24764.000000</td>\n",
       "      <td>12.000000</td>\n",
       "      <td>23.000000</td>\n",
       "      <td>472.000000</td>\n",
       "      <td>119.000000</td>\n",
       "      <td>112.000000</td>\n",
       "      <td>27829.000000</td>\n",
       "      <td>115.000000</td>\n",
       "      <td>NaN</td>\n",
       "      <td>NaN</td>\n",
       "      <td>NaN</td>\n",
       "    </tr>\n",
       "  </tbody>\n",
       "</table>\n",
       "</div>"
      ],
      "text/plain": [
       "              Amount   FamilySize     Distance     Duration  DirectVisits  \\\n",
       "count    2938.000000  2938.000000  2938.000000  2938.000000   2938.000000   \n",
       "unique           NaN          NaN          NaN          NaN           NaN   \n",
       "top              NaN          NaN          NaN          NaN           NaN   \n",
       "freq             NaN          NaN          NaN          NaN           NaN   \n",
       "mean     4209.432267     3.116065     7.353642   349.146698     16.283186   \n",
       "std      2069.917106     1.038815     2.989459    89.621938      8.494674   \n",
       "min      2500.000000     2.000000     3.000000   100.000000      1.000000   \n",
       "25%      2897.250000     2.000000     6.000000   305.000000     11.000000   \n",
       "50%      3512.000000     3.000000     7.000000   368.000000     14.000000   \n",
       "75%      4772.500000     4.000000     8.000000   418.000000     19.000000   \n",
       "max     24764.000000    12.000000    23.000000   472.000000    119.000000   \n",
       "\n",
       "        OnlineVisits      Quantity  NumberofFrequentItems  TransactionMode  \\\n",
       "count    2938.000000   2938.000000            2938.000000           2938.0   \n",
       "unique           NaN           NaN                    NaN              2.0   \n",
       "top              NaN           NaN                    NaN              2.0   \n",
       "freq             NaN           NaN                    NaN           2414.0   \n",
       "mean       14.745405   1600.154527              14.780463              NaN   \n",
       "std         7.310646   1920.046598               8.822916              NaN   \n",
       "min         1.000000      0.000000               0.000000              NaN   \n",
       "25%        10.000000    444.000000              10.000000              NaN   \n",
       "50%        13.000000   1028.500000              13.000000              NaN   \n",
       "75%        17.000000   2047.250000              19.000000              NaN   \n",
       "max       112.000000  27829.000000             115.000000              NaN   \n",
       "\n",
       "         Area  Occupation  \n",
       "count    2938      2938.0  \n",
       "unique      2         3.0  \n",
       "top     Area1         3.0  \n",
       "freq     2600      1054.0  \n",
       "mean      NaN         NaN  \n",
       "std       NaN         NaN  \n",
       "min       NaN         NaN  \n",
       "25%       NaN         NaN  \n",
       "50%       NaN         NaN  \n",
       "75%       NaN         NaN  \n",
       "max       NaN         NaN  "
      ]
     },
     "execution_count": 73,
     "metadata": {},
     "output_type": "execute_result"
    }
   ],
   "source": [
    "data.describe(include='all')"
   ]
  },
  {
   "cell_type": "code",
   "execution_count": 74,
   "metadata": {},
   "outputs": [
    {
     "data": {
      "text/html": [
       "<div>\n",
       "<style scoped>\n",
       "    .dataframe tbody tr th:only-of-type {\n",
       "        vertical-align: middle;\n",
       "    }\n",
       "\n",
       "    .dataframe tbody tr th {\n",
       "        vertical-align: top;\n",
       "    }\n",
       "\n",
       "    .dataframe thead th {\n",
       "        text-align: right;\n",
       "    }\n",
       "</style>\n",
       "<table border=\"1\" class=\"dataframe\">\n",
       "  <thead>\n",
       "    <tr style=\"text-align: right;\">\n",
       "      <th></th>\n",
       "      <th>Amount</th>\n",
       "      <th>FamilySize</th>\n",
       "      <th>Distance</th>\n",
       "      <th>Duration</th>\n",
       "      <th>DirectVisits</th>\n",
       "      <th>OnlineVisits</th>\n",
       "      <th>Quantity</th>\n",
       "      <th>NumberofFrequentItems</th>\n",
       "    </tr>\n",
       "  </thead>\n",
       "  <tbody>\n",
       "    <tr>\n",
       "      <th>Amount</th>\n",
       "      <td>1.000000</td>\n",
       "      <td>0.101605</td>\n",
       "      <td>-0.000649</td>\n",
       "      <td>0.122863</td>\n",
       "      <td>0.661911</td>\n",
       "      <td>0.751496</td>\n",
       "      <td>0.239952</td>\n",
       "      <td>0.496008</td>\n",
       "    </tr>\n",
       "    <tr>\n",
       "      <th>FamilySize</th>\n",
       "      <td>0.101605</td>\n",
       "      <td>1.000000</td>\n",
       "      <td>0.436628</td>\n",
       "      <td>0.081646</td>\n",
       "      <td>0.131551</td>\n",
       "      <td>0.127229</td>\n",
       "      <td>0.167357</td>\n",
       "      <td>0.125670</td>\n",
       "    </tr>\n",
       "    <tr>\n",
       "      <th>Distance</th>\n",
       "      <td>-0.000649</td>\n",
       "      <td>0.436628</td>\n",
       "      <td>1.000000</td>\n",
       "      <td>-0.057219</td>\n",
       "      <td>-0.004709</td>\n",
       "      <td>-0.012891</td>\n",
       "      <td>-0.002030</td>\n",
       "      <td>-0.010339</td>\n",
       "    </tr>\n",
       "    <tr>\n",
       "      <th>Duration</th>\n",
       "      <td>0.122863</td>\n",
       "      <td>0.081646</td>\n",
       "      <td>-0.057219</td>\n",
       "      <td>1.000000</td>\n",
       "      <td>0.207336</td>\n",
       "      <td>0.196975</td>\n",
       "      <td>0.230608</td>\n",
       "      <td>0.200766</td>\n",
       "    </tr>\n",
       "    <tr>\n",
       "      <th>DirectVisits</th>\n",
       "      <td>0.661911</td>\n",
       "      <td>0.131551</td>\n",
       "      <td>-0.004709</td>\n",
       "      <td>0.207336</td>\n",
       "      <td>1.000000</td>\n",
       "      <td>0.934496</td>\n",
       "      <td>0.298580</td>\n",
       "      <td>0.949014</td>\n",
       "    </tr>\n",
       "    <tr>\n",
       "      <th>OnlineVisits</th>\n",
       "      <td>0.751496</td>\n",
       "      <td>0.127229</td>\n",
       "      <td>-0.012891</td>\n",
       "      <td>0.196975</td>\n",
       "      <td>0.934496</td>\n",
       "      <td>1.000000</td>\n",
       "      <td>0.321901</td>\n",
       "      <td>0.869229</td>\n",
       "    </tr>\n",
       "    <tr>\n",
       "      <th>Quantity</th>\n",
       "      <td>0.239952</td>\n",
       "      <td>0.167357</td>\n",
       "      <td>-0.002030</td>\n",
       "      <td>0.230608</td>\n",
       "      <td>0.298580</td>\n",
       "      <td>0.321901</td>\n",
       "      <td>1.000000</td>\n",
       "      <td>0.302033</td>\n",
       "    </tr>\n",
       "    <tr>\n",
       "      <th>NumberofFrequentItems</th>\n",
       "      <td>0.496008</td>\n",
       "      <td>0.125670</td>\n",
       "      <td>-0.010339</td>\n",
       "      <td>0.200766</td>\n",
       "      <td>0.949014</td>\n",
       "      <td>0.869229</td>\n",
       "      <td>0.302033</td>\n",
       "      <td>1.000000</td>\n",
       "    </tr>\n",
       "  </tbody>\n",
       "</table>\n",
       "</div>"
      ],
      "text/plain": [
       "                         Amount  FamilySize  Distance  Duration  DirectVisits  \\\n",
       "Amount                 1.000000    0.101605 -0.000649  0.122863      0.661911   \n",
       "FamilySize             0.101605    1.000000  0.436628  0.081646      0.131551   \n",
       "Distance              -0.000649    0.436628  1.000000 -0.057219     -0.004709   \n",
       "Duration               0.122863    0.081646 -0.057219  1.000000      0.207336   \n",
       "DirectVisits           0.661911    0.131551 -0.004709  0.207336      1.000000   \n",
       "OnlineVisits           0.751496    0.127229 -0.012891  0.196975      0.934496   \n",
       "Quantity               0.239952    0.167357 -0.002030  0.230608      0.298580   \n",
       "NumberofFrequentItems  0.496008    0.125670 -0.010339  0.200766      0.949014   \n",
       "\n",
       "                       OnlineVisits  Quantity  NumberofFrequentItems  \n",
       "Amount                     0.751496  0.239952               0.496008  \n",
       "FamilySize                 0.127229  0.167357               0.125670  \n",
       "Distance                  -0.012891 -0.002030              -0.010339  \n",
       "Duration                   0.196975  0.230608               0.200766  \n",
       "DirectVisits               0.934496  0.298580               0.949014  \n",
       "OnlineVisits               1.000000  0.321901               0.869229  \n",
       "Quantity                   0.321901  1.000000               0.302033  \n",
       "NumberofFrequentItems      0.869229  0.302033               1.000000  "
      ]
     },
     "execution_count": 74,
     "metadata": {},
     "output_type": "execute_result"
    }
   ],
   "source": [
    "#Correlation Analysis\n",
    "data.corr()"
   ]
  },
  {
   "cell_type": "code",
   "execution_count": 75,
   "metadata": {},
   "outputs": [],
   "source": [
    "#Visualization\n",
    "#Scatter plots between numerical attributes and amount\n",
    "amt=data.Amount\n",
    "fs=data.FamilySize\n",
    "dis=data.Distance\n",
    "dur=data.Duration\n",
    "dv=data.DirectVisits\n",
    "ov=data.OnlineVisits\n",
    "q=data.Quantity\n",
    "nfi=data.NumberofFrequentItems"
   ]
  },
  {
   "cell_type": "code",
   "execution_count": 76,
   "metadata": {},
   "outputs": [
    {
     "data": {
      "text/plain": [
       "<matplotlib.collections.PathCollection at 0x2143d39be48>"
      ]
     },
     "execution_count": 76,
     "metadata": {},
     "output_type": "execute_result"
    },
    {
     "data": {
      "image/png": "[encoded data removed]",
      "text/plain": [
       "<matplotlib.figure.Figure at 0x2143d2ef198>"
      ]
     },
     "metadata": {},
     "output_type": "display_data"
    }
   ],
   "source": [
    "plt.scatter(fs,amt)"
   ]
  },
  {
   "cell_type": "markdown",
   "metadata": {},
   "source": [
    "Families with size less than 6 spent more amount"
   ]
  },
  {
   "cell_type": "code",
   "execution_count": 77,
   "metadata": {},
   "outputs": [
    {
     "data": {
      "text/plain": [
       "<matplotlib.collections.PathCollection at 0x2143d3feb38>"
      ]
     },
     "execution_count": 77,
     "metadata": {},
     "output_type": "execute_result"
    },
    {
     "data": {
      "image/png": "[encoded data removed]",
      "text/plain": [
       "<matplotlib.figure.Figure at 0x2143d3782b0>"
      ]
     },
     "metadata": {},
     "output_type": "display_data"
    }
   ],
   "source": [
    "plt.scatter(dis,amt)"
   ]
  },
  {
   "cell_type": "markdown",
   "metadata": {},
   "source": [
    "People within the range of 3 to 11 kms spent more amount People too close have rarely spent People too far also have spent significant amount Gradually as the distance increased,amonut spent decreased in a irregular fashion"
   ]
  },
  {
   "cell_type": "code",
   "execution_count": 78,
   "metadata": {},
   "outputs": [
    {
     "data": {
      "text/plain": [
       "<matplotlib.collections.PathCollection at 0x2143d462898>"
      ]
     },
     "execution_count": 78,
     "metadata": {},
     "output_type": "execute_result"
    },
    {
     "data": {
      "image/png": "[encoded data removed]",
      "text/plain": [
       "<matplotlib.figure.Figure at 0x2143d3dd358>"
      ]
     },
     "metadata": {},
     "output_type": "display_data"
    }
   ],
   "source": [
    "plt.scatter(dur,amt)"
   ]
  },
  {
   "cell_type": "markdown",
   "metadata": {},
   "source": [
    "With the time spent,amount spent increased"
   ]
  },
  {
   "cell_type": "code",
   "execution_count": 79,
   "metadata": {},
   "outputs": [
    {
     "data": {
      "text/plain": [
       "<matplotlib.collections.PathCollection at 0x2143d4c40b8>"
      ]
     },
     "execution_count": 79,
     "metadata": {},
     "output_type": "execute_result"
    },
    {
     "data": {
      "image/png": "[encoded data removed]",
      "text/plain": [
       "<matplotlib.figure.Figure at 0x2143d3a7da0>"
      ]
     },
     "metadata": {},
     "output_type": "display_data"
    }
   ],
   "source": [
    "plt.scatter(dv,amt)"
   ]
  },
  {
   "cell_type": "code",
   "execution_count": 80,
   "metadata": {},
   "outputs": [
    {
     "data": {
      "text/plain": [
       "<matplotlib.collections.PathCollection at 0x2143d51e320>"
      ]
     },
     "execution_count": 80,
     "metadata": {},
     "output_type": "execute_result"
    },
    {
     "data": {
      "image/png": "[encoded data removed]",
      "text/plain": [
       "<matplotlib.figure.Figure at 0x2143d4cdeb8>"
      ]
     },
     "metadata": {},
     "output_type": "display_data"
    }
   ],
   "source": [
    "plt.scatter(ov,amt)"
   ]
  },
  {
   "cell_type": "code",
   "execution_count": 81,
   "metadata": {},
   "outputs": [],
   "source": [
    "#The correlation between amount vs direct visits and amount vs online visits is positive\n",
    "#Whether it is online visits/direct visits,as the number of visits increases,amount spent increases but in a irregular fashion"
   ]
  },
  {
   "cell_type": "code",
   "execution_count": 82,
   "metadata": {},
   "outputs": [
    {
     "data": {
      "text/plain": [
       "<matplotlib.collections.PathCollection at 0x2143e6f7128>"
      ]
     },
     "execution_count": 82,
     "metadata": {},
     "output_type": "execute_result"
    },
    {
     "data": {
      "image/png": "[encoded data removed]",
      "text/plain": [
       "<matplotlib.figure.Figure at 0x2143d4727f0>"
      ]
     },
     "metadata": {},
     "output_type": "display_data"
    }
   ],
   "source": [
    "plt.scatter(q,amt)"
   ]
  },
  {
   "cell_type": "code",
   "execution_count": 83,
   "metadata": {},
   "outputs": [
    {
     "ename": "SyntaxError",
     "evalue": "invalid syntax (<ipython-input-83-5f25ae79ebce>, line 1)",
     "output_type": "error",
     "traceback": [
      "\u001b[1;36m  File \u001b[1;32m\"<ipython-input-83-5f25ae79ebce>\"\u001b[1;36m, line \u001b[1;32m1\u001b[0m\n\u001b[1;33m    As qunatity increases ,amount spent increases\u001b[0m\n\u001b[1;37m              ^\u001b[0m\n\u001b[1;31mSyntaxError\u001b[0m\u001b[1;31m:\u001b[0m invalid syntax\n"
     ]
    }
   ],
   "source": [
    "As qunatity increases ,amount spent increases"
   ]
  },
  {
   "cell_type": "code",
   "execution_count": null,
   "metadata": {},
   "outputs": [],
   "source": [
    "plt.plot(data['NumberofFrequentItems'],data['Amount'])"
   ]
  },
  {
   "cell_type": "code",
   "execution_count": null,
   "metadata": {},
   "outputs": [],
   "source": [
    "\n",
    "Amount spent increases as the NumberofFrequentItems increases(basically increase in the number of items)"
   ]
  },
  {
   "cell_type": "code",
   "execution_count": null,
   "metadata": {},
   "outputs": [],
   "source": [
    "#Exploratory data analysis for categorical variables\n",
    "plt.bar(data['TransactionMode'].unique(),data['TransactionMode'].value_counts())\n",
    "plt.show()"
   ]
  },
  {
   "cell_type": "code",
   "execution_count": null,
   "metadata": {},
   "outputs": [],
   "source": [
    "plt.bar(data['Area'].unique(),data['Area'].value_counts())\n",
    "plt.show()"
   ]
  },
  {
   "cell_type": "code",
   "execution_count": null,
   "metadata": {},
   "outputs": [],
   "source": [
    "plt.bar(data['Occupation'].unique(),data['Occupation'].value_counts())\n",
    "plt.show()"
   ]
  },
  {
   "cell_type": "code",
   "execution_count": null,
   "metadata": {},
   "outputs": [],
   "source": [
    "import seaborn as sns"
   ]
  },
  {
   "cell_type": "code",
   "execution_count": null,
   "metadata": {},
   "outputs": [],
   "source": [
    "sns.lmplot(x='DirectVisits', y='Amount', data=data)\n",
    "plt.show()"
   ]
  },
  {
   "cell_type": "code",
   "execution_count": null,
   "metadata": {},
   "outputs": [],
   "source": [
    "sns.lmplot(x='OnlineVisits', y='Amount', data=data)\n",
    "plt.show()"
   ]
  },
  {
   "cell_type": "code",
   "execution_count": null,
   "metadata": {},
   "outputs": [],
   "source": [
    "sns.lmplot(x='NumberofFrequentItems', y='Amount', data=data)\n",
    "plt.show()"
   ]
  },
  {
   "cell_type": "code",
   "execution_count": null,
   "metadata": {},
   "outputs": [],
   "source": [
    "#The problem is regression\n",
    "#We should use multiple linear regression algorithm"
   ]
  },
  {
   "cell_type": "code",
   "execution_count": 84,
   "metadata": {},
   "outputs": [],
   "source": [
    "#Experiment 1\n",
    "#With test_size=0.2"
   ]
  },
  {
   "cell_type": "code",
   "execution_count": 85,
   "metadata": {},
   "outputs": [],
   "source": [
    "#Splitting of data into train and test sets\n",
    "\n",
    "traindata,testdata=train_test_split(data,test_size=0.2,random_state=123)"
   ]
  },
  {
   "cell_type": "code",
   "execution_count": 86,
   "metadata": {},
   "outputs": [
    {
     "name": "stdout",
     "output_type": "stream",
     "text": [
      "(2350, 11)\n",
      "(588, 11)\n"
     ]
    }
   ],
   "source": [
    "print(traindata.shape)\n",
    "print(testdata.shape)"
   ]
  },
  {
   "cell_type": "code",
   "execution_count": 87,
   "metadata": {},
   "outputs": [],
   "source": [
    "#Dummification of category variable and dropping first column of each category variable to prevent dummy trap\n",
    "cols=['TransactionMode','Area','Occupation']\n",
    "train_dumped=pd.get_dummies(columns=cols,data=traindata,prefix=cols,drop_first=True)\n",
    "test_dumped=pd.get_dummies(columns=cols,data=testdata,prefix=cols,drop_first=True)"
   ]
  },
  {
   "cell_type": "code",
   "execution_count": 88,
   "metadata": {},
   "outputs": [
    {
     "data": {
      "text/html": [
       "<div>\n",
       "<style scoped>\n",
       "    .dataframe tbody tr th:only-of-type {\n",
       "        vertical-align: middle;\n",
       "    }\n",
       "\n",
       "    .dataframe tbody tr th {\n",
       "        vertical-align: top;\n",
       "    }\n",
       "\n",
       "    .dataframe thead th {\n",
       "        text-align: right;\n",
       "    }\n",
       "</style>\n",
       "<table border=\"1\" class=\"dataframe\">\n",
       "  <thead>\n",
       "    <tr style=\"text-align: right;\">\n",
       "      <th></th>\n",
       "      <th>Amount</th>\n",
       "      <th>FamilySize</th>\n",
       "      <th>Distance</th>\n",
       "      <th>Duration</th>\n",
       "      <th>DirectVisits</th>\n",
       "      <th>OnlineVisits</th>\n",
       "      <th>Quantity</th>\n",
       "      <th>NumberofFrequentItems</th>\n",
       "      <th>TransactionMode_2</th>\n",
       "      <th>Area_Area2</th>\n",
       "      <th>Occupation_2</th>\n",
       "      <th>Occupation_3</th>\n",
       "    </tr>\n",
       "  </thead>\n",
       "  <tbody>\n",
       "    <tr>\n",
       "      <th>1155</th>\n",
       "      <td>3318</td>\n",
       "      <td>2</td>\n",
       "      <td>6</td>\n",
       "      <td>436</td>\n",
       "      <td>12</td>\n",
       "      <td>12</td>\n",
       "      <td>5233</td>\n",
       "      <td>12</td>\n",
       "      <td>1</td>\n",
       "      <td>1</td>\n",
       "      <td>1</td>\n",
       "      <td>0</td>\n",
       "    </tr>\n",
       "    <tr>\n",
       "      <th>937</th>\n",
       "      <td>2500</td>\n",
       "      <td>3</td>\n",
       "      <td>9</td>\n",
       "      <td>365</td>\n",
       "      <td>7</td>\n",
       "      <td>6</td>\n",
       "      <td>492</td>\n",
       "      <td>7</td>\n",
       "      <td>1</td>\n",
       "      <td>0</td>\n",
       "      <td>0</td>\n",
       "      <td>0</td>\n",
       "    </tr>\n",
       "    <tr>\n",
       "      <th>973</th>\n",
       "      <td>2963</td>\n",
       "      <td>4</td>\n",
       "      <td>14</td>\n",
       "      <td>379</td>\n",
       "      <td>22</td>\n",
       "      <td>14</td>\n",
       "      <td>1486</td>\n",
       "      <td>22</td>\n",
       "      <td>0</td>\n",
       "      <td>0</td>\n",
       "      <td>1</td>\n",
       "      <td>0</td>\n",
       "    </tr>\n",
       "    <tr>\n",
       "      <th>2081</th>\n",
       "      <td>3500</td>\n",
       "      <td>4</td>\n",
       "      <td>7</td>\n",
       "      <td>235</td>\n",
       "      <td>2</td>\n",
       "      <td>2</td>\n",
       "      <td>20</td>\n",
       "      <td>1</td>\n",
       "      <td>1</td>\n",
       "      <td>0</td>\n",
       "      <td>0</td>\n",
       "      <td>1</td>\n",
       "    </tr>\n",
       "    <tr>\n",
       "      <th>354</th>\n",
       "      <td>6875</td>\n",
       "      <td>2</td>\n",
       "      <td>8</td>\n",
       "      <td>447</td>\n",
       "      <td>21</td>\n",
       "      <td>21</td>\n",
       "      <td>982</td>\n",
       "      <td>21</td>\n",
       "      <td>1</td>\n",
       "      <td>0</td>\n",
       "      <td>0</td>\n",
       "      <td>1</td>\n",
       "    </tr>\n",
       "  </tbody>\n",
       "</table>\n",
       "</div>"
      ],
      "text/plain": [
       "      Amount  FamilySize  Distance  Duration  DirectVisits  OnlineVisits  \\\n",
       "1155    3318           2         6       436            12            12   \n",
       "937     2500           3         9       365             7             6   \n",
       "973     2963           4        14       379            22            14   \n",
       "2081    3500           4         7       235             2             2   \n",
       "354     6875           2         8       447            21            21   \n",
       "\n",
       "      Quantity  NumberofFrequentItems  TransactionMode_2  Area_Area2  \\\n",
       "1155      5233                     12                  1           1   \n",
       "937        492                      7                  1           0   \n",
       "973       1486                     22                  0           0   \n",
       "2081        20                      1                  1           0   \n",
       "354        982                     21                  1           0   \n",
       "\n",
       "      Occupation_2  Occupation_3  \n",
       "1155             1             0  \n",
       "937              0             0  \n",
       "973              1             0  \n",
       "2081             0             1  \n",
       "354              0             1  "
      ]
     },
     "execution_count": 88,
     "metadata": {},
     "output_type": "execute_result"
    }
   ],
   "source": [
    "train_dumped.head()"
   ]
  },
  {
   "cell_type": "code",
   "execution_count": 89,
   "metadata": {},
   "outputs": [
    {
     "data": {
      "text/html": [
       "<div>\n",
       "<style scoped>\n",
       "    .dataframe tbody tr th:only-of-type {\n",
       "        vertical-align: middle;\n",
       "    }\n",
       "\n",
       "    .dataframe tbody tr th {\n",
       "        vertical-align: top;\n",
       "    }\n",
       "\n",
       "    .dataframe thead th {\n",
       "        text-align: right;\n",
       "    }\n",
       "</style>\n",
       "<table border=\"1\" class=\"dataframe\">\n",
       "  <thead>\n",
       "    <tr style=\"text-align: right;\">\n",
       "      <th></th>\n",
       "      <th>Amount</th>\n",
       "      <th>FamilySize</th>\n",
       "      <th>Distance</th>\n",
       "      <th>Duration</th>\n",
       "      <th>DirectVisits</th>\n",
       "      <th>OnlineVisits</th>\n",
       "      <th>Quantity</th>\n",
       "      <th>NumberofFrequentItems</th>\n",
       "      <th>TransactionMode_2</th>\n",
       "      <th>Area_Area2</th>\n",
       "      <th>Occupation_2</th>\n",
       "      <th>Occupation_3</th>\n",
       "    </tr>\n",
       "  </thead>\n",
       "  <tbody>\n",
       "    <tr>\n",
       "      <th>775</th>\n",
       "      <td>3375</td>\n",
       "      <td>3</td>\n",
       "      <td>7</td>\n",
       "      <td>409</td>\n",
       "      <td>13</td>\n",
       "      <td>13</td>\n",
       "      <td>1102</td>\n",
       "      <td>13</td>\n",
       "      <td>1</td>\n",
       "      <td>0</td>\n",
       "      <td>0</td>\n",
       "      <td>1</td>\n",
       "    </tr>\n",
       "    <tr>\n",
       "      <th>527</th>\n",
       "      <td>3001</td>\n",
       "      <td>6</td>\n",
       "      <td>10</td>\n",
       "      <td>377</td>\n",
       "      <td>22</td>\n",
       "      <td>19</td>\n",
       "      <td>8148</td>\n",
       "      <td>22</td>\n",
       "      <td>1</td>\n",
       "      <td>0</td>\n",
       "      <td>0</td>\n",
       "      <td>1</td>\n",
       "    </tr>\n",
       "    <tr>\n",
       "      <th>553</th>\n",
       "      <td>2875</td>\n",
       "      <td>3</td>\n",
       "      <td>8</td>\n",
       "      <td>287</td>\n",
       "      <td>15</td>\n",
       "      <td>10</td>\n",
       "      <td>153</td>\n",
       "      <td>15</td>\n",
       "      <td>1</td>\n",
       "      <td>0</td>\n",
       "      <td>1</td>\n",
       "      <td>0</td>\n",
       "    </tr>\n",
       "    <tr>\n",
       "      <th>2670</th>\n",
       "      <td>2813</td>\n",
       "      <td>2</td>\n",
       "      <td>4</td>\n",
       "      <td>339</td>\n",
       "      <td>14</td>\n",
       "      <td>13</td>\n",
       "      <td>1353</td>\n",
       "      <td>14</td>\n",
       "      <td>1</td>\n",
       "      <td>0</td>\n",
       "      <td>1</td>\n",
       "      <td>0</td>\n",
       "    </tr>\n",
       "    <tr>\n",
       "      <th>2047</th>\n",
       "      <td>4188</td>\n",
       "      <td>4</td>\n",
       "      <td>13</td>\n",
       "      <td>381</td>\n",
       "      <td>15</td>\n",
       "      <td>14</td>\n",
       "      <td>629</td>\n",
       "      <td>15</td>\n",
       "      <td>1</td>\n",
       "      <td>0</td>\n",
       "      <td>0</td>\n",
       "      <td>0</td>\n",
       "    </tr>\n",
       "  </tbody>\n",
       "</table>\n",
       "</div>"
      ],
      "text/plain": [
       "      Amount  FamilySize  Distance  Duration  DirectVisits  OnlineVisits  \\\n",
       "775     3375           3         7       409            13            13   \n",
       "527     3001           6        10       377            22            19   \n",
       "553     2875           3         8       287            15            10   \n",
       "2670    2813           2         4       339            14            13   \n",
       "2047    4188           4        13       381            15            14   \n",
       "\n",
       "      Quantity  NumberofFrequentItems  TransactionMode_2  Area_Area2  \\\n",
       "775       1102                     13                  1           0   \n",
       "527       8148                     22                  1           0   \n",
       "553        153                     15                  1           0   \n",
       "2670      1353                     14                  1           0   \n",
       "2047       629                     15                  1           0   \n",
       "\n",
       "      Occupation_2  Occupation_3  \n",
       "775              0             1  \n",
       "527              0             1  \n",
       "553              1             0  \n",
       "2670             1             0  \n",
       "2047             0             0  "
      ]
     },
     "execution_count": 89,
     "metadata": {},
     "output_type": "execute_result"
    }
   ],
   "source": [
    "test_dumped.head()"
   ]
  },
  {
   "cell_type": "code",
   "execution_count": 90,
   "metadata": {},
   "outputs": [
    {
     "data": {
      "text/plain": [
       "['DirectVisits',\n",
       " 'Distance',\n",
       " 'TransactionMode_2',\n",
       " 'Occupation_3',\n",
       " 'Quantity',\n",
       " 'OnlineVisits',\n",
       " 'FamilySize',\n",
       " 'Duration',\n",
       " 'Occupation_2',\n",
       " 'Area_Area2',\n",
       " 'NumberofFrequentItems']"
      ]
     },
     "execution_count": 90,
     "metadata": {},
     "output_type": "execute_result"
    }
   ],
   "source": [
    "#Only independent variables\n",
    "ind_atr=list((set(train_dumped.columns))-set(['Amount']))\n",
    "ind_atr"
   ]
  },
  {
   "cell_type": "code",
   "execution_count": 91,
   "metadata": {},
   "outputs": [],
   "source": [
    "#Create object for LinearRegression\n",
    "linreg=LinearRegression()\n",
    "#Fit a linearRegression model\n",
    "res_sklearn=linreg.fit(train_dumped[ind_atr],train_dumped['Amount'])"
   ]
  },
  {
   "cell_type": "code",
   "execution_count": 92,
   "metadata": {},
   "outputs": [],
   "source": [
    "#Predicting the values for test and train data\n",
    "pred_train_sklearn=res_sklearn.predict(train_dumped[ind_atr])\n",
    "pred_test_sklearn=res_sklearn.predict(test_dumped[ind_atr])"
   ]
  },
  {
   "cell_type": "code",
   "execution_count": 93,
   "metadata": {},
   "outputs": [
    {
     "name": "stdout",
     "output_type": "stream",
     "text": [
      "[ 2.62546923e+02 -9.47350161e+00  2.64208385e+02 -1.19694407e+01\n",
      "  3.84743602e-02  2.32211345e+02  4.71029449e+01 -5.25526037e-01\n",
      "  1.74437523e+01  3.03238628e+02 -2.91464118e+02]\n",
      "611.5385333782915\n"
     ]
    }
   ],
   "source": [
    "#Checking coefficient and intercept of regression line\n",
    "print(res_sklearn.coef_)\n",
    "print(res_sklearn.intercept_)"
   ]
  },
  {
   "cell_type": "code",
   "execution_count": 94,
   "metadata": {},
   "outputs": [],
   "source": [
    "#Coefficients are significant,hence all these features impact revenue of retail store"
   ]
  },
  {
   "cell_type": "code",
   "execution_count": 95,
   "metadata": {},
   "outputs": [
    {
     "name": "stdout",
     "output_type": "stream",
     "text": [
      "793.2396053830868\n",
      "778.8292727155107\n"
     ]
    }
   ],
   "source": [
    "print(mean_absolute_error(np.array(train_dumped['Amount']),pred_train_sklearn))\n",
    "print(mean_absolute_error(np.array(test_dumped['Amount']),pred_test_sklearn))"
   ]
  },
  {
   "cell_type": "code",
   "execution_count": 96,
   "metadata": {},
   "outputs": [
    {
     "name": "stdout",
     "output_type": "stream",
     "text": [
      "1100.0225506551187\n",
      "1108.8525142846127\n"
     ]
    }
   ],
   "source": [
    "from math import sqrt\n",
    "print(sqrt(mean_squared_error(np.array(train_dumped['Amount']),pred_train_sklearn)))\n",
    "print(sqrt(mean_squared_error(np.array(test_dumped['Amount']),pred_test_sklearn)))"
   ]
  },
  {
   "cell_type": "code",
   "execution_count": 97,
   "metadata": {},
   "outputs": [],
   "source": [
    "#Experiment 2\n",
    "#With test_size=0.33"
   ]
  },
  {
   "cell_type": "code",
   "execution_count": 98,
   "metadata": {},
   "outputs": [],
   "source": [
    "traindata2,testdata2=train_test_split(data,test_size=0.33,random_state=123)"
   ]
  },
  {
   "cell_type": "code",
   "execution_count": 99,
   "metadata": {},
   "outputs": [
    {
     "data": {
      "text/plain": [
       "(970, 11)"
      ]
     },
     "execution_count": 99,
     "metadata": {},
     "output_type": "execute_result"
    }
   ],
   "source": [
    "traindata2.shape\n",
    "testdata2.shape"
   ]
  },
  {
   "cell_type": "code",
   "execution_count": 100,
   "metadata": {},
   "outputs": [],
   "source": [
    "train_dumped2=pd.get_dummies(columns=cols,data=traindata2,prefix=cols,drop_first=True)\n",
    "test_dumped2=pd.get_dummies(columns=cols,data=testdata2,prefix=cols,drop_first=True)"
   ]
  },
  {
   "cell_type": "code",
   "execution_count": 101,
   "metadata": {},
   "outputs": [
    {
     "data": {
      "text/html": [
       "<div>\n",
       "<style scoped>\n",
       "    .dataframe tbody tr th:only-of-type {\n",
       "        vertical-align: middle;\n",
       "    }\n",
       "\n",
       "    .dataframe tbody tr th {\n",
       "        vertical-align: top;\n",
       "    }\n",
       "\n",
       "    .dataframe thead th {\n",
       "        text-align: right;\n",
       "    }\n",
       "</style>\n",
       "<table border=\"1\" class=\"dataframe\">\n",
       "  <thead>\n",
       "    <tr style=\"text-align: right;\">\n",
       "      <th></th>\n",
       "      <th>Amount</th>\n",
       "      <th>FamilySize</th>\n",
       "      <th>Distance</th>\n",
       "      <th>Duration</th>\n",
       "      <th>DirectVisits</th>\n",
       "      <th>OnlineVisits</th>\n",
       "      <th>Quantity</th>\n",
       "      <th>NumberofFrequentItems</th>\n",
       "      <th>TransactionMode_2</th>\n",
       "      <th>Area_Area2</th>\n",
       "      <th>Occupation_2</th>\n",
       "      <th>Occupation_3</th>\n",
       "    </tr>\n",
       "  </thead>\n",
       "  <tbody>\n",
       "    <tr>\n",
       "      <th>1400</th>\n",
       "      <td>3380</td>\n",
       "      <td>3</td>\n",
       "      <td>7</td>\n",
       "      <td>260</td>\n",
       "      <td>11</td>\n",
       "      <td>11</td>\n",
       "      <td>806</td>\n",
       "      <td>10</td>\n",
       "      <td>1</td>\n",
       "      <td>0</td>\n",
       "      <td>1</td>\n",
       "      <td>0</td>\n",
       "    </tr>\n",
       "    <tr>\n",
       "      <th>1872</th>\n",
       "      <td>6250</td>\n",
       "      <td>4</td>\n",
       "      <td>7</td>\n",
       "      <td>183</td>\n",
       "      <td>35</td>\n",
       "      <td>29</td>\n",
       "      <td>765</td>\n",
       "      <td>35</td>\n",
       "      <td>1</td>\n",
       "      <td>0</td>\n",
       "      <td>0</td>\n",
       "      <td>1</td>\n",
       "    </tr>\n",
       "    <tr>\n",
       "      <th>2907</th>\n",
       "      <td>3438</td>\n",
       "      <td>2</td>\n",
       "      <td>7</td>\n",
       "      <td>303</td>\n",
       "      <td>11</td>\n",
       "      <td>11</td>\n",
       "      <td>97</td>\n",
       "      <td>11</td>\n",
       "      <td>1</td>\n",
       "      <td>0</td>\n",
       "      <td>0</td>\n",
       "      <td>1</td>\n",
       "    </tr>\n",
       "    <tr>\n",
       "      <th>183</th>\n",
       "      <td>2936</td>\n",
       "      <td>4</td>\n",
       "      <td>8</td>\n",
       "      <td>351</td>\n",
       "      <td>7</td>\n",
       "      <td>8</td>\n",
       "      <td>334</td>\n",
       "      <td>2</td>\n",
       "      <td>1</td>\n",
       "      <td>0</td>\n",
       "      <td>0</td>\n",
       "      <td>1</td>\n",
       "    </tr>\n",
       "    <tr>\n",
       "      <th>155</th>\n",
       "      <td>3563</td>\n",
       "      <td>3</td>\n",
       "      <td>6</td>\n",
       "      <td>417</td>\n",
       "      <td>19</td>\n",
       "      <td>14</td>\n",
       "      <td>199</td>\n",
       "      <td>19</td>\n",
       "      <td>1</td>\n",
       "      <td>0</td>\n",
       "      <td>0</td>\n",
       "      <td>0</td>\n",
       "    </tr>\n",
       "  </tbody>\n",
       "</table>\n",
       "</div>"
      ],
      "text/plain": [
       "      Amount  FamilySize  Distance  Duration  DirectVisits  OnlineVisits  \\\n",
       "1400    3380           3         7       260            11            11   \n",
       "1872    6250           4         7       183            35            29   \n",
       "2907    3438           2         7       303            11            11   \n",
       "183     2936           4         8       351             7             8   \n",
       "155     3563           3         6       417            19            14   \n",
       "\n",
       "      Quantity  NumberofFrequentItems  TransactionMode_2  Area_Area2  \\\n",
       "1400       806                     10                  1           0   \n",
       "1872       765                     35                  1           0   \n",
       "2907        97                     11                  1           0   \n",
       "183        334                      2                  1           0   \n",
       "155        199                     19                  1           0   \n",
       "\n",
       "      Occupation_2  Occupation_3  \n",
       "1400             1             0  \n",
       "1872             0             1  \n",
       "2907             0             1  \n",
       "183              0             1  \n",
       "155              0             0  "
      ]
     },
     "execution_count": 101,
     "metadata": {},
     "output_type": "execute_result"
    }
   ],
   "source": [
    "train_dumped2.head()"
   ]
  },
  {
   "cell_type": "code",
   "execution_count": 102,
   "metadata": {},
   "outputs": [
    {
     "data": {
      "text/html": [
       "<div>\n",
       "<style scoped>\n",
       "    .dataframe tbody tr th:only-of-type {\n",
       "        vertical-align: middle;\n",
       "    }\n",
       "\n",
       "    .dataframe tbody tr th {\n",
       "        vertical-align: top;\n",
       "    }\n",
       "\n",
       "    .dataframe thead th {\n",
       "        text-align: right;\n",
       "    }\n",
       "</style>\n",
       "<table border=\"1\" class=\"dataframe\">\n",
       "  <thead>\n",
       "    <tr style=\"text-align: right;\">\n",
       "      <th></th>\n",
       "      <th>Amount</th>\n",
       "      <th>FamilySize</th>\n",
       "      <th>Distance</th>\n",
       "      <th>Duration</th>\n",
       "      <th>DirectVisits</th>\n",
       "      <th>OnlineVisits</th>\n",
       "      <th>Quantity</th>\n",
       "      <th>NumberofFrequentItems</th>\n",
       "      <th>TransactionMode_2</th>\n",
       "      <th>Area_Area2</th>\n",
       "      <th>Occupation_2</th>\n",
       "      <th>Occupation_3</th>\n",
       "    </tr>\n",
       "  </thead>\n",
       "  <tbody>\n",
       "    <tr>\n",
       "      <th>775</th>\n",
       "      <td>3375</td>\n",
       "      <td>3</td>\n",
       "      <td>7</td>\n",
       "      <td>409</td>\n",
       "      <td>13</td>\n",
       "      <td>13</td>\n",
       "      <td>1102</td>\n",
       "      <td>13</td>\n",
       "      <td>1</td>\n",
       "      <td>0</td>\n",
       "      <td>0</td>\n",
       "      <td>1</td>\n",
       "    </tr>\n",
       "    <tr>\n",
       "      <th>527</th>\n",
       "      <td>3001</td>\n",
       "      <td>6</td>\n",
       "      <td>10</td>\n",
       "      <td>377</td>\n",
       "      <td>22</td>\n",
       "      <td>19</td>\n",
       "      <td>8148</td>\n",
       "      <td>22</td>\n",
       "      <td>1</td>\n",
       "      <td>0</td>\n",
       "      <td>0</td>\n",
       "      <td>1</td>\n",
       "    </tr>\n",
       "    <tr>\n",
       "      <th>553</th>\n",
       "      <td>2875</td>\n",
       "      <td>3</td>\n",
       "      <td>8</td>\n",
       "      <td>287</td>\n",
       "      <td>15</td>\n",
       "      <td>10</td>\n",
       "      <td>153</td>\n",
       "      <td>15</td>\n",
       "      <td>1</td>\n",
       "      <td>0</td>\n",
       "      <td>1</td>\n",
       "      <td>0</td>\n",
       "    </tr>\n",
       "    <tr>\n",
       "      <th>2670</th>\n",
       "      <td>2813</td>\n",
       "      <td>2</td>\n",
       "      <td>4</td>\n",
       "      <td>339</td>\n",
       "      <td>14</td>\n",
       "      <td>13</td>\n",
       "      <td>1353</td>\n",
       "      <td>14</td>\n",
       "      <td>1</td>\n",
       "      <td>0</td>\n",
       "      <td>1</td>\n",
       "      <td>0</td>\n",
       "    </tr>\n",
       "    <tr>\n",
       "      <th>2047</th>\n",
       "      <td>4188</td>\n",
       "      <td>4</td>\n",
       "      <td>13</td>\n",
       "      <td>381</td>\n",
       "      <td>15</td>\n",
       "      <td>14</td>\n",
       "      <td>629</td>\n",
       "      <td>15</td>\n",
       "      <td>1</td>\n",
       "      <td>0</td>\n",
       "      <td>0</td>\n",
       "      <td>0</td>\n",
       "    </tr>\n",
       "  </tbody>\n",
       "</table>\n",
       "</div>"
      ],
      "text/plain": [
       "      Amount  FamilySize  Distance  Duration  DirectVisits  OnlineVisits  \\\n",
       "775     3375           3         7       409            13            13   \n",
       "527     3001           6        10       377            22            19   \n",
       "553     2875           3         8       287            15            10   \n",
       "2670    2813           2         4       339            14            13   \n",
       "2047    4188           4        13       381            15            14   \n",
       "\n",
       "      Quantity  NumberofFrequentItems  TransactionMode_2  Area_Area2  \\\n",
       "775       1102                     13                  1           0   \n",
       "527       8148                     22                  1           0   \n",
       "553        153                     15                  1           0   \n",
       "2670      1353                     14                  1           0   \n",
       "2047       629                     15                  1           0   \n",
       "\n",
       "      Occupation_2  Occupation_3  \n",
       "775              0             1  \n",
       "527              0             1  \n",
       "553              1             0  \n",
       "2670             1             0  \n",
       "2047             0             0  "
      ]
     },
     "execution_count": 102,
     "metadata": {},
     "output_type": "execute_result"
    }
   ],
   "source": [
    "test_dumped.head()"
   ]
  },
  {
   "cell_type": "code",
   "execution_count": 103,
   "metadata": {},
   "outputs": [
    {
     "data": {
      "text/plain": [
       "['DirectVisits',\n",
       " 'Distance',\n",
       " 'TransactionMode_2',\n",
       " 'Occupation_3',\n",
       " 'Quantity',\n",
       " 'OnlineVisits',\n",
       " 'FamilySize',\n",
       " 'Duration',\n",
       " 'Occupation_2',\n",
       " 'Area_Area2',\n",
       " 'NumberofFrequentItems']"
      ]
     },
     "execution_count": 103,
     "metadata": {},
     "output_type": "execute_result"
    }
   ],
   "source": [
    "ind_atr2=list((set(train_dumped2.columns))-set(['Amount']))\n",
    "ind_atr2"
   ]
  },
  {
   "cell_type": "code",
   "execution_count": 104,
   "metadata": {},
   "outputs": [],
   "source": [
    "pred_train_sklearn2=res_sklearn.predict(train_dumped2[ind_atr])\n",
    "pred_test_sklearn2=res_sklearn.predict(test_dumped2[ind_atr])"
   ]
  },
  {
   "cell_type": "code",
   "execution_count": 105,
   "metadata": {},
   "outputs": [
    {
     "name": "stdout",
     "output_type": "stream",
     "text": [
      "[ 2.62546923e+02 -9.47350161e+00  2.64208385e+02 -1.19694407e+01\n",
      "  3.84743602e-02  2.32211345e+02  4.71029449e+01 -5.25526037e-01\n",
      "  1.74437523e+01  3.03238628e+02 -2.91464118e+02]\n",
      "611.5385333782915\n"
     ]
    }
   ],
   "source": [
    "print(res_sklearn.coef_)\n",
    "print(res_sklearn.intercept_)"
   ]
  },
  {
   "cell_type": "code",
   "execution_count": 106,
   "metadata": {},
   "outputs": [
    {
     "name": "stdout",
     "output_type": "stream",
     "text": [
      "793.9178203058813\n",
      "783.1282625206181\n"
     ]
    }
   ],
   "source": [
    "print(mean_absolute_error(np.array(train_dumped2['Amount']),pred_train_sklearn2))\n",
    "print(mean_absolute_error(np.array(test_dumped2['Amount']),pred_test_sklearn2))"
   ]
  },
  {
   "cell_type": "code",
   "execution_count": 110,
   "metadata": {},
   "outputs": [
    {
     "name": "stdout",
     "output_type": "stream",
     "text": [
      "1099.176508534749\n",
      "1107.0897738926558\n"
     ]
    }
   ],
   "source": [
    "from math import sqrt\n",
    "print(sqrt(mean_squared_error(np.array(train_dumped2['Amount']),pred_train_sklearn2)))\n",
    "print(sqrt(mean_squared_error(np.array(test_dumped2['Amount']),pred_test_sklearn2)))"
   ]
  },
  {
   "cell_type": "markdown",
   "metadata": {},
   "source": [
    "OLS Model"
   ]
  },
  {
   "cell_type": "code",
   "execution_count": 111,
   "metadata": {},
   "outputs": [
    {
     "name": "stdout",
     "output_type": "stream",
     "text": [
      "Index(['Amount', 'FamilySize', 'Distance', 'Duration', 'DirectVisits',\n",
      "       'OnlineVisits', 'Quantity', 'NumberofFrequentItems', 'TransactionMode',\n",
      "       'Area', 'Occupation'],\n",
      "      dtype='object')\n"
     ]
    }
   ],
   "source": [
    "print(data.columns)"
   ]
  },
  {
   "cell_type": "code",
   "execution_count": 114,
   "metadata": {},
   "outputs": [
    {
     "name": "stdout",
     "output_type": "stream",
     "text": [
      "['TransactionMode', 'DirectVisits', 'Distance', 'Area', 'Quantity', 'OnlineVisits', 'FamilySize', 'Occupation', 'Duration', 'NumberofFrequentItems']\n"
     ]
    }
   ],
   "source": [
    "#Seperating input columns\n",
    "ind_atr=list((set(data.columns))-set(['Amount','PersonID']))\n",
    "print(ind_atr)"
   ]
  },
  {
   "cell_type": "code",
   "execution_count": 115,
   "metadata": {},
   "outputs": [
    {
     "data": {
      "text/plain": [
       "'TransactionMode+DirectVisits+Distance+Area+Quantity+OnlineVisits+FamilySize+Occupation+Duration+NumberofFrequentItems'"
      ]
     },
     "execution_count": 115,
     "metadata": {},
     "output_type": "execute_result"
    }
   ],
   "source": [
    "#Joining input columns by '+'\n",
    "x='+'.join(ind_atr)\n",
    "x"
   ]
  },
  {
   "cell_type": "code",
   "execution_count": 116,
   "metadata": {},
   "outputs": [
    {
     "name": "stdout",
     "output_type": "stream",
     "text": [
      "Amount ~ TransactionMode+DirectVisits+Distance+Area+Quantity+OnlineVisits+FamilySize+Occupation+Duration+NumberofFrequentItems\n"
     ]
    }
   ],
   "source": [
    "#Joining output column by '~'\n",
    "formula=\" ~ \".join(('Amount',x))\n",
    "print(formula)"
   ]
  },
  {
   "cell_type": "code",
   "execution_count": 117,
   "metadata": {},
   "outputs": [],
   "source": [
    "lm_mod=ols(formula=formula,data=data)\n",
    "#Fit a ols model\n",
    "result=lm_mod.fit()"
   ]
  },
  {
   "cell_type": "code",
   "execution_count": 118,
   "metadata": {},
   "outputs": [
    {
     "name": "stdout",
     "output_type": "stream",
     "text": [
      "                            OLS Regression Results                            \n",
      "==============================================================================\n",
      "Dep. Variable:                 Amount   R-squared:                       0.717\n",
      "Model:                            OLS   Adj. R-squared:                  0.716\n",
      "Method:                 Least Squares   F-statistic:                     673.3\n",
      "Date:                Wed, 15 Jul 2020   Prob (F-statistic):               0.00\n",
      "Time:                        13:31:27   Log-Likelihood:                -24747.\n",
      "No. Observations:                2938   AIC:                         4.952e+04\n",
      "Df Residuals:                    2926   BIC:                         4.959e+04\n",
      "Df Model:                          11                                         \n",
      "Covariance Type:            nonrobust                                         \n",
      "=========================================================================================\n",
      "                            coef    std err          t      P>|t|      [0.025      0.975]\n",
      "-----------------------------------------------------------------------------------------\n",
      "Intercept               621.3437    120.684      5.149      0.000     384.710     857.977\n",
      "TransactionMode[T.2]    299.4014     55.581      5.387      0.000     190.419     408.384\n",
      "Area[T.Area2]           267.0128     66.372      4.023      0.000     136.872     397.154\n",
      "Occupation[T.2]           4.6484     50.939      0.091      0.927     -95.231     104.528\n",
      "Occupation[T.3]         -13.7002     49.889     -0.275      0.784    -111.522      84.121\n",
      "DirectVisits            257.5998     11.295     22.807      0.000     235.453     279.746\n",
      "Distance                 -4.1675      7.651     -0.545      0.586     -19.169      10.834\n",
      "Quantity                  0.0316      0.012      2.732      0.006       0.009       0.054\n",
      "OnlineVisits            232.7890      8.319     27.984      0.000     216.478     249.100\n",
      "FamilySize               31.7605     22.421      1.417      0.157     -12.202      75.723\n",
      "Duration                 -0.5462      0.238     -2.296      0.022      -1.013      -0.080\n",
      "NumberofFrequentItems  -286.9036      7.626    -37.623      0.000    -301.856    -271.951\n",
      "==============================================================================\n",
      "Omnibus:                      953.863   Durbin-Watson:                   2.011\n",
      "Prob(Omnibus):                  0.000   Jarque-Bera (JB):             6270.559\n",
      "Skew:                           1.376   Prob(JB):                         0.00\n",
      "Kurtosis:                       9.607   Cond. No.                     1.53e+04\n",
      "==============================================================================\n",
      "\n",
      "Warnings:\n",
      "[1] Standard Errors assume that the covariance matrix of the errors is correctly specified.\n",
      "[2] The condition number is large, 1.53e+04. This might indicate that there are\n",
      "strong multicollinearity or other numerical problems.\n"
     ]
    }
   ],
   "source": [
    "print(result.summary())"
   ]
  },
  {
   "cell_type": "code",
   "execution_count": null,
   "metadata": {},
   "outputs": [],
   "source": [
    "#If the value of the coefficient is less than 0.05 than it is significant\n",
    "#SquaredR value is quite significant,good model fit\n",
    "#All the above features affect revenue generated"
   ]
  }
 ],
 "metadata": {
  "kernelspec": {
   "display_name": "Python 3",
   "language": "python",
   "name": "python3"
  },
  "language_info": {
   "codemirror_mode": {
    "name": "ipython",
    "version": 3
   },
   "file_extension": ".py",
   "mimetype": "text/x-python",
   "name": "python",
   "nbconvert_exporter": "python",
   "pygments_lexer": "ipython3",
   "version": "3.6.4"
  }
 },
 "nbformat": 4,
 "nbformat_minor": 2
}
